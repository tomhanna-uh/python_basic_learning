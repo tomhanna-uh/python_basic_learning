{
 "cells": [
  {
   "cell_type": "markdown",
   "metadata": {},
   "source": [
    "# Dictionaries"
   ]
  },
  {
   "cell_type": "code",
   "execution_count": 1,
   "metadata": {},
   "outputs": [
    {
     "name": "stdout",
     "output_type": "stream",
     "text": [
      "green\n",
      "8\n"
     ]
    }
   ],
   "source": [
    "alien_0 = {'color': 'green', 'points': '8'}\n",
    "\n",
    "print(alien_0['color'])\n",
    "print(alien_0['points'])"
   ]
  },
  {
   "cell_type": "code",
   "execution_count": 2,
   "metadata": {},
   "outputs": [
    {
     "name": "stdout",
     "output_type": "stream",
     "text": [
      "You just earned 8 points!\n"
     ]
    }
   ],
   "source": [
    "new_points = alien_0['points']\n",
    "print('You just earned ' + str(new_points) + \" points!\")"
   ]
  },
  {
   "cell_type": "code",
   "execution_count": 3,
   "metadata": {},
   "outputs": [
    {
     "name": "stdout",
     "output_type": "stream",
     "text": [
      "{'color': 'green', 'points': '8', 'x_position': 0, 'y_position': 25}\n"
     ]
    }
   ],
   "source": [
    "alien_0['x_position'] = 0\n",
    "alien_0['y_position'] = 25\n",
    "\n",
    "print(alien_0)"
   ]
  },
  {
   "cell_type": "code",
   "execution_count": 4,
   "metadata": {},
   "outputs": [
    {
     "name": "stdout",
     "output_type": "stream",
     "text": [
      "{'color': 'green', 'points': 5}\n"
     ]
    }
   ],
   "source": [
    "alien_0 = {}\n",
    "\n",
    "alien_0['color'] = 'green'\n",
    "alien_0['points'] = 5\n",
    "\n",
    "print(alien_0)"
   ]
  },
  {
   "cell_type": "code",
   "execution_count": 5,
   "metadata": {},
   "outputs": [
    {
     "name": "stdout",
     "output_type": "stream",
     "text": [
      "The alien is green.\n",
      "The alien is now yellow.\n"
     ]
    }
   ],
   "source": [
    "print(\"The alien is \" + alien_0['color'] + \".\")\n",
    "\n",
    "alien_0['color'] = 'yellow'\n",
    "print(\"The alien is now \" + alien_0['color'] + \".\")"
   ]
  },
  {
   "cell_type": "code",
   "execution_count": 6,
   "metadata": {},
   "outputs": [],
   "source": [
    "#moving alien\n",
    "\n",
    "alien_0 = {'x_position': 0, 'y_position': 25, 'speed': 'medium', 'points': 10}\n",
    "\n"
   ]
  },
  {
   "cell_type": "code",
   "execution_count": 7,
   "metadata": {},
   "outputs": [
    {
     "name": "stdout",
     "output_type": "stream",
     "text": [
      "Original x-position: 0\n",
      "New x-position: 2\n"
     ]
    }
   ],
   "source": [
    "print(\"Original x-position: \" + str(alien_0['x_position']))\n",
    "\n",
    "#Move alien to the right\n",
    "# Determine how far to move based on speed\n",
    "\n",
    "if alien_0['speed'] == 'slow':\n",
    "    x_increment = 1\n",
    "elif alien_0['speed'] == 'medium':\n",
    "    x_increment = 2\n",
    "else:\n",
    "    #Really fast alien\n",
    "    x_increment = 3\n",
    "    \n",
    "#The new position is the old position plus the increment\n",
    "alien_0['x_position'] = alien_0['x_position'] + x_increment\n",
    "\n",
    "print(\"New x-position: \" + str(alien_0['x_position']))"
   ]
  },
  {
   "cell_type": "code",
   "execution_count": 8,
   "metadata": {},
   "outputs": [
    {
     "name": "stdout",
     "output_type": "stream",
     "text": [
      "Original x-position: 2\n",
      "New x-position: 5\n"
     ]
    }
   ],
   "source": [
    "alien_0['speed'] = 'fast'\n",
    "\n",
    "print(\"Original x-position: \" + str(alien_0['x_position']))\n",
    "\n",
    "#Move alien to the right\n",
    "# Determine how far to move based on speed\n",
    "\n",
    "if alien_0['speed'] == 'slow':\n",
    "    x_increment = 1\n",
    "elif alien_0['speed'] == 'medium':\n",
    "    x_increment = 2\n",
    "else:\n",
    "    #Really fast alien\n",
    "    x_increment = 3\n",
    "    \n",
    "#The new position is the old position plus the increment\n",
    "alien_0['x_position'] = alien_0['x_position'] + x_increment\n",
    "\n",
    "print(\"New x-position: \" + str(alien_0['x_position']))"
   ]
  },
  {
   "cell_type": "code",
   "execution_count": 9,
   "metadata": {},
   "outputs": [
    {
     "name": "stdout",
     "output_type": "stream",
     "text": [
      "{'x_position': 5, 'y_position': 25, 'speed': 'fast', 'points': 10}\n"
     ]
    }
   ],
   "source": [
    "print(alien_0)"
   ]
  },
  {
   "cell_type": "code",
   "execution_count": 10,
   "metadata": {},
   "outputs": [
    {
     "name": "stdout",
     "output_type": "stream",
     "text": [
      "{'x_position': 5, 'y_position': 25, 'speed': 'fast'}\n"
     ]
    }
   ],
   "source": [
    "del alien_0['points']\n",
    "print(alien_0)"
   ]
  },
  {
   "cell_type": "markdown",
   "metadata": {},
   "source": [
    "# dictionary of similar objects"
   ]
  },
  {
   "cell_type": "code",
   "execution_count": 11,
   "metadata": {},
   "outputs": [
    {
     "name": "stdout",
     "output_type": "stream",
     "text": [
      "{'jen': 'python', 'sarah': 'c', 'edward': 'ruby', 'phil': 'python'}\n"
     ]
    }
   ],
   "source": [
    "favorite_languages = {\n",
    "    'jen':'python',\n",
    "    'sarah':'c',\n",
    "    'edward':'ruby',\n",
    "    'phil':'python'\n",
    "    }\n",
    "\n",
    "print(favorite_languages)"
   ]
  },
  {
   "cell_type": "code",
   "execution_count": 12,
   "metadata": {},
   "outputs": [
    {
     "name": "stdout",
     "output_type": "stream",
     "text": [
      "Sarah's favorite language is C.\n"
     ]
    }
   ],
   "source": [
    "print(\"Sarah's favorite language is \" +\n",
    "      favorite_languages['sarah'].title() + \n",
    "      \".\"\n",
    "     )"
   ]
  },
  {
   "cell_type": "markdown",
   "metadata": {},
   "source": [
    "# Exercises 6-1 to 6-3"
   ]
  },
  {
   "cell_type": "code",
   "execution_count": 13,
   "metadata": {},
   "outputs": [
    {
     "name": "stdout",
     "output_type": "stream",
     "text": [
      "{'first_name': 'adrienne', 'middle_name': 'renee', 'last_name': 'marshall hanna', 'age': 22, 'city': 'houston'}\n"
     ]
    }
   ],
   "source": [
    "sweetiepie = {'first_name': 'adrienne',\n",
    "              'middle_name': 'renee',\n",
    "              'last_name': 'marshall hanna',\n",
    "              'age': 22,\n",
    "              'city': 'houston'\n",
    "             }\n",
    "\n",
    "print(sweetiepie)"
   ]
  },
  {
   "cell_type": "code",
   "execution_count": 14,
   "metadata": {},
   "outputs": [
    {
     "name": "stdout",
     "output_type": "stream",
     "text": [
      "adrienne\n"
     ]
    }
   ],
   "source": [
    "print(sweetiepie['first_name'])"
   ]
  },
  {
   "cell_type": "code",
   "execution_count": 15,
   "metadata": {},
   "outputs": [
    {
     "name": "stdout",
     "output_type": "stream",
     "text": [
      "First_Name : Adrienne\n",
      "Middle_Name : Renee\n",
      "Last_Name : Marshall Hanna\n",
      "Age : 22\n",
      "City : Houston\n"
     ]
    }
   ],
   "source": [
    "for key in sweetiepie:\n",
    "    print(key.title() + \" : \" +  str(sweetiepie[key]).title())"
   ]
  },
  {
   "cell_type": "code",
   "execution_count": 16,
   "metadata": {},
   "outputs": [
    {
     "name": "stdout",
     "output_type": "stream",
     "text": [
      "{'tom': 4, 'adrienne': 8, 'joe': 23, 'carol': 1000000, 'rick': 5}\n"
     ]
    }
   ],
   "source": [
    "# 6 -2 \n",
    "# favorite numbers\n",
    "\n",
    "favorite_numbers = {}\n",
    "\n",
    "favorite_numbers['tom'] = 4\n",
    "favorite_numbers['adrienne'] = 8\n",
    "favorite_numbers['joe'] = 23\n",
    "favorite_numbers['carol'] = 1000000\n",
    "favorite_numbers['rick'] = 5\n",
    "\n",
    "print(favorite_numbers)"
   ]
  },
  {
   "cell_type": "code",
   "execution_count": 17,
   "metadata": {},
   "outputs": [
    {
     "name": "stdout",
     "output_type": "stream",
     "text": [
      "Tom : 4\n",
      "Adrienne : 8\n",
      "Joe : 23\n",
      "Carol : 1000000\n",
      "Rick : 5\n"
     ]
    }
   ],
   "source": [
    "for name in favorite_numbers:\n",
    "    print(name.title() + \" : \" + str(favorite_numbers[name]).title())"
   ]
  },
  {
   "cell_type": "markdown",
   "metadata": {},
   "source": [
    "# 6-3 "
   ]
  },
  {
   "cell_type": "code",
   "execution_count": 18,
   "metadata": {},
   "outputs": [
    {
     "name": "stdout",
     "output_type": "stream",
     "text": [
      "{'list': 'a data structure that is a mutable, ordered sequence of elements', 'variable': 'a reserved memory location to store values', 'for loop': 'a method for iterating over a sequence', 'tuple': 'an immutable, finite, ordered list of elements', 'dictionary': 'an unordered, mutable, indexed collection of elements consisting of key-value pairs'}\n"
     ]
    }
   ],
   "source": [
    "programming_glossary = {\n",
    "    'list':'a data structure that is a mutable, ordered sequence of elements',\n",
    "    'variable':'a reserved memory location to store values',\n",
    "    'for loop':'a method for iterating over a sequence',\n",
    "    'tuple':'an immutable, finite, ordered list of elements',\n",
    "    'dictionary':'an unordered, mutable, indexed collection of elements consisting of key-value pairs'\n",
    "}\n",
    "\n",
    "print(programming_glossary)"
   ]
  },
  {
   "cell_type": "markdown",
   "metadata": {},
   "source": [
    "for programming_word in programming_glossary:\n",
    "    print(programming_word.title() + \" : \" + programming_glossary[programming_word].capitalize() + \".\\n\")"
   ]
  },
  {
   "cell_type": "markdown",
   "metadata": {},
   "source": [
    "# Looping through a dictionary"
   ]
  },
  {
   "cell_type": "code",
   "execution_count": 20,
   "metadata": {},
   "outputs": [],
   "source": [
    "user_o = {\n",
    "    'username':'efermi',\n",
    "    'first':'enrico',\n",
    "    'last':'fermi'\n",
    "}"
   ]
  },
  {
   "cell_type": "code",
   "execution_count": 21,
   "metadata": {},
   "outputs": [
    {
     "name": "stdout",
     "output_type": "stream",
     "text": [
      "\n",
      "Key:username\n",
      "Value:efermi\n",
      "\n",
      "Key:first\n",
      "Value:enrico\n",
      "\n",
      "Key:last\n",
      "Value:fermi\n"
     ]
    }
   ],
   "source": [
    "for key, value in user_o.items():\n",
    "    print(\"\\nKey:\" + key)\n",
    "    print(\"Value:\" + value)"
   ]
  },
  {
   "cell_type": "code",
   "execution_count": 22,
   "metadata": {},
   "outputs": [
    {
     "name": "stdout",
     "output_type": "stream",
     "text": [
      "Jen's favorite language is Python.\n",
      "Sarah's favorite language is C.\n",
      "Edward's favorite language is Ruby.\n",
      "Phil's favorite language is Python.\n"
     ]
    }
   ],
   "source": [
    "for name,language in favorite_languages.items():\n",
    "    print(name.title() + \"'s favorite language is \" +\n",
    "         language.title() + \".\")"
   ]
  },
  {
   "cell_type": "code",
   "execution_count": 23,
   "metadata": {},
   "outputs": [
    {
     "name": "stdout",
     "output_type": "stream",
     "text": [
      "Jen\n",
      "Sarah\n",
      "Edward\n",
      "Phil\n"
     ]
    }
   ],
   "source": [
    "for name in favorite_languages.keys():\n",
    "    print(name.title())"
   ]
  },
  {
   "cell_type": "code",
   "execution_count": 28,
   "metadata": {},
   "outputs": [
    {
     "name": "stdout",
     "output_type": "stream",
     "text": [
      "Jen\n",
      "\n",
      "Sarah\n",
      "\n",
      "Hi Sarah, I see your favorite language is C!\n",
      "\n",
      "Edward\n",
      "\n",
      "Phil\n",
      "\n",
      "Hi Phil, I see your favorite language is Python!\n",
      "\n"
     ]
    }
   ],
   "source": [
    "friends = ['phil','sarah']\n",
    "for name in favorite_languages.keys():\n",
    "    print(name.title() + \"\\n\")\n",
    "    \n",
    "    if name in friends:\n",
    "        print(\"Hi \" + name.title() + \", I see your favorite language is \" +\n",
    "         favorite_languages[name].title() + \"!\\n\")"
   ]
  },
  {
   "cell_type": "code",
   "execution_count": 29,
   "metadata": {},
   "outputs": [
    {
     "name": "stdout",
     "output_type": "stream",
     "text": [
      "Erin, please take our poll!\n"
     ]
    }
   ],
   "source": [
    "if 'erin' not in favorite_languages.keys():\n",
    "    print(\"Erin, please take our poll!\")"
   ]
  },
  {
   "cell_type": "markdown",
   "metadata": {},
   "source": [
    "# Loop through dictionary in order"
   ]
  },
  {
   "cell_type": "code",
   "execution_count": 30,
   "metadata": {},
   "outputs": [
    {
     "name": "stdout",
     "output_type": "stream",
     "text": [
      "Edward, thank you for taking the poll.\n",
      "Jen, thank you for taking the poll.\n",
      "Phil, thank you for taking the poll.\n",
      "Sarah, thank you for taking the poll.\n"
     ]
    }
   ],
   "source": [
    "for name in sorted(favorite_languages.keys()):\n",
    "    print(name.title() + \", thank you for taking the poll.\")"
   ]
  },
  {
   "cell_type": "code",
   "execution_count": 32,
   "metadata": {},
   "outputs": [
    {
     "name": "stdout",
     "output_type": "stream",
     "text": [
      "The following languages have been mentioned:\n",
      "Python\n",
      "C\n",
      "Ruby\n",
      "Python\n"
     ]
    }
   ],
   "source": [
    "print(\"The following languages have been mentioned:\")\n",
    "for language in favorite_languages.values():\n",
    "    print(language.title())"
   ]
  },
  {
   "cell_type": "code",
   "execution_count": 33,
   "metadata": {},
   "outputs": [
    {
     "name": "stdout",
     "output_type": "stream",
     "text": [
      "Python\n",
      "C\n",
      "Ruby\n"
     ]
    }
   ],
   "source": [
    "for language in set(favorite_languages.values()):\n",
    "    print(language.title())"
   ]
  },
  {
   "cell_type": "markdown",
   "metadata": {},
   "source": [
    "# Exercises 6-4 to 6-6"
   ]
  },
  {
   "cell_type": "markdown",
   "metadata": {},
   "source": [
    "# 6-4 I already did it this one in 6-3"
   ]
  },
  {
   "cell_type": "markdown",
   "metadata": {},
   "source": [
    "# 6-5 "
   ]
  },
  {
   "cell_type": "code",
   "execution_count": 35,
   "metadata": {},
   "outputs": [
    {
     "data": {
      "text/plain": [
       "{'mississippi': 'united states of america',\n",
       " 'thames': 'united kingdom',\n",
       " 'seine': 'france'}"
      ]
     },
     "execution_count": 35,
     "metadata": {},
     "output_type": "execute_result"
    }
   ],
   "source": [
    "major_rivers = {\n",
    "    'mississippi':'united states of america',\n",
    "    'thames':'united kingdom',\n",
    "    'seine':'france'\n",
    "}\n",
    "\n",
    "major_rivers"
   ]
  },
  {
   "cell_type": "code",
   "execution_count": 36,
   "metadata": {},
   "outputs": [
    {
     "name": "stdout",
     "output_type": "stream",
     "text": [
      "The Mississippi runs through United States Of America.\n",
      "\n",
      "The Thames runs through United Kingdom.\n",
      "\n",
      "The Seine runs through France.\n",
      "\n"
     ]
    }
   ],
   "source": [
    "for river in major_rivers:\n",
    "    print(\"The \" + river.title() + \" runs through \" + major_rivers[river].title() + \".\\n\")"
   ]
  },
  {
   "cell_type": "code",
   "execution_count": 37,
   "metadata": {},
   "outputs": [
    {
     "name": "stdout",
     "output_type": "stream",
     "text": [
      "Mississippi\n",
      "Thames\n",
      "Seine\n"
     ]
    }
   ],
   "source": [
    "for river in major_rivers:\n",
    "    print(river.title())"
   ]
  },
  {
   "cell_type": "code",
   "execution_count": 38,
   "metadata": {},
   "outputs": [
    {
     "name": "stdout",
     "output_type": "stream",
     "text": [
      "United States Of America\n",
      "United Kingdom\n",
      "France\n"
     ]
    }
   ],
   "source": [
    "for river in major_rivers:\n",
    "    print(major_rivers[river].title())"
   ]
  },
  {
   "cell_type": "code",
   "execution_count": 39,
   "metadata": {},
   "outputs": [],
   "source": [
    "need2poll = ['joe','jen','sarah','bob','sweetiepie']"
   ]
  },
  {
   "cell_type": "code",
   "execution_count": 42,
   "metadata": {},
   "outputs": [
    {
     "name": "stdout",
     "output_type": "stream",
     "text": [
      "Hi, Joe, would you please take our poll?\n",
      "\n",
      "Hi, Jen, thank you for taking our poll earlier.\n",
      "\n",
      "Hi, Sarah, thank you for taking our poll earlier.\n",
      "\n",
      "Hi, Bob, would you please take our poll?\n",
      "\n",
      "Hi, Sweetiepie, would you please take our poll?\n",
      "\n"
     ]
    }
   ],
   "source": [
    "for person in need2poll:\n",
    "    if person in favorite_languages.keys():\n",
    "        print(\"Hi, \" + person.title() + \", thank you for taking our poll earlier.\\n\")\n",
    "    else:\n",
    "        print(\"Hi, \" + person.title() + \", would you please take our poll?\\n\")"
   ]
  },
  {
   "cell_type": "code",
   "execution_count": null,
   "metadata": {},
   "outputs": [],
   "source": []
  }
 ],
 "metadata": {
  "kernelspec": {
   "display_name": "Python 3",
   "language": "python",
   "name": "python3"
  },
  "language_info": {
   "codemirror_mode": {
    "name": "ipython",
    "version": 3
   },
   "file_extension": ".py",
   "mimetype": "text/x-python",
   "name": "python",
   "nbconvert_exporter": "python",
   "pygments_lexer": "ipython3",
   "version": "3.7.6"
  }
 },
 "nbformat": 4,
 "nbformat_minor": 4
}
