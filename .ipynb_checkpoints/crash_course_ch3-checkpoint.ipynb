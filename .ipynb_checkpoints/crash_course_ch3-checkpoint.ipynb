{
 "cells": [
  {
   "cell_type": "code",
   "execution_count": 1,
   "metadata": {},
   "outputs": [
    {
     "name": "stdout",
     "output_type": "stream",
     "text": [
      "trek\n"
     ]
    }
   ],
   "source": [
    "bicycles = ['trek','cannondale','redline','specialized']\n",
    "print(bicycles[0])"
   ]
  },
  {
   "cell_type": "code",
   "execution_count": 2,
   "metadata": {},
   "outputs": [
    {
     "name": "stdout",
     "output_type": "stream",
     "text": [
      "Trek\n"
     ]
    }
   ],
   "source": [
    "print(bicycles[0].title())"
   ]
  },
  {
   "cell_type": "code",
   "execution_count": 3,
   "metadata": {},
   "outputs": [
    {
     "name": "stdout",
     "output_type": "stream",
     "text": [
      "cannondale\n",
      "specialized\n"
     ]
    }
   ],
   "source": [
    "print(bicycles[1])\n",
    "print(bicycles[3])"
   ]
  },
  {
   "cell_type": "code",
   "execution_count": 4,
   "metadata": {},
   "outputs": [
    {
     "name": "stdout",
     "output_type": "stream",
     "text": [
      "specialized\n"
     ]
    }
   ],
   "source": [
    "print(bicycles[-1])"
   ]
  },
  {
   "cell_type": "code",
   "execution_count": 7,
   "metadata": {},
   "outputs": [
    {
     "name": "stdout",
     "output_type": "stream",
     "text": [
      "My first bicycle was a Trek.\n"
     ]
    }
   ],
   "source": [
    "message = \"My first bicycle was a\" + \" \" + bicycles[0].title() + \".\"\n",
    "print(message)"
   ]
  },
  {
   "cell_type": "code",
   "execution_count": 8,
   "metadata": {},
   "outputs": [
    {
     "name": "stdout",
     "output_type": "stream",
     "text": [
      "Kevin\n",
      "Aaron\n",
      "Morgan\n",
      "Callie\n",
      "John\n"
     ]
    }
   ],
   "source": [
    "names = ['Kevin','Aaron','Morgan','Callie','John']\n",
    "print(names[0])\n",
    "print(names[1])\n",
    "print(names[2])\n",
    "print(names[3])\n",
    "print(names[-1])"
   ]
  },
  {
   "cell_type": "code",
   "execution_count": 13,
   "metadata": {},
   "outputs": [
    {
     "name": "stdout",
     "output_type": "stream",
     "text": [
      "Hi, Kevin, how's it going?\n"
     ]
    }
   ],
   "source": [
    "x = names[0]\n",
    "message = \"Hi, \" + x + \", how's it going?\"\n",
    "print(message)\n"
   ]
  },
  {
   "cell_type": "code",
   "execution_count": 14,
   "metadata": {},
   "outputs": [
    {
     "name": "stdout",
     "output_type": "stream",
     "text": [
      "['Kevin', 'Aaron', 'Morgan', 'Callie', 'John']\n"
     ]
    }
   ],
   "source": [
    "print(names)"
   ]
  },
  {
   "cell_type": "code",
   "execution_count": 16,
   "metadata": {},
   "outputs": [
    {
     "name": "stdout",
     "output_type": "stream",
     "text": [
      "Hi, Aaron, how's it going?\n"
     ]
    }
   ],
   "source": [
    "x = names[1]\n",
    "message = \"Hi, \" + x + \", how's it going?\"\n",
    "print(message)"
   ]
  },
  {
   "cell_type": "code",
   "execution_count": 17,
   "metadata": {},
   "outputs": [
    {
     "name": "stdout",
     "output_type": "stream",
     "text": [
      "Hi, Morgan, how's it going?\n"
     ]
    }
   ],
   "source": [
    "x = names[2]\n",
    "message = \"Hi, \" + x + \", how's it going?\"\n",
    "print(message)"
   ]
  },
  {
   "cell_type": "code",
   "execution_count": 18,
   "metadata": {},
   "outputs": [
    {
     "name": "stdout",
     "output_type": "stream",
     "text": [
      "Hi, Callie, how's it going?\n"
     ]
    }
   ],
   "source": [
    "x = names[-2]\n",
    "message = \"Hi, \" + x + \", how's it going?\"\n",
    "print(message)"
   ]
  },
  {
   "cell_type": "code",
   "execution_count": 19,
   "metadata": {},
   "outputs": [
    {
     "name": "stdout",
     "output_type": "stream",
     "text": [
      "Hi, John, how's it going?\n"
     ]
    }
   ],
   "source": [
    "x = names[-1]\n",
    "message = \"Hi, \" + x + \", how's it going?\"\n",
    "print(message)"
   ]
  },
  {
   "cell_type": "code",
   "execution_count": 20,
   "metadata": {},
   "outputs": [],
   "source": [
    "cars = ['Porsche 911','Corvette Stingray','Hyundai Veloster','MG-B','Triump Spitfire']"
   ]
  },
  {
   "cell_type": "code",
   "execution_count": 21,
   "metadata": {},
   "outputs": [
    {
     "name": "stdout",
     "output_type": "stream",
     "text": [
      "I would like to own a Porsche 911.\n"
     ]
    }
   ],
   "source": [
    "print(\"I would like to own a\" + \" \" + cars[0] + \".\")"
   ]
  },
  {
   "cell_type": "code",
   "execution_count": 23,
   "metadata": {},
   "outputs": [
    {
     "name": "stdout",
     "output_type": "stream",
     "text": [
      "I really want to drive a Triump Spitfire everyday.\n"
     ]
    }
   ],
   "source": [
    "print(\"I really want to drive a \" + cars[-1] + \" everyday.\")"
   ]
  },
  {
   "cell_type": "code",
   "execution_count": 24,
   "metadata": {},
   "outputs": [
    {
     "name": "stdout",
     "output_type": "stream",
     "text": [
      "['honda', 'yamaha', 'suzuki']\n"
     ]
    }
   ],
   "source": [
    "motorcycles = ['honda','yamaha','suzuki']\n",
    "print(motorcycles)"
   ]
  },
  {
   "cell_type": "code",
   "execution_count": 25,
   "metadata": {},
   "outputs": [
    {
     "name": "stdout",
     "output_type": "stream",
     "text": [
      "['ducati', 'yamaha', 'suzuki']\n"
     ]
    }
   ],
   "source": [
    "motorcycles[0] = 'ducati'\n",
    "print(motorcycles)"
   ]
  },
  {
   "cell_type": "code",
   "execution_count": 26,
   "metadata": {},
   "outputs": [
    {
     "name": "stdout",
     "output_type": "stream",
     "text": [
      "['ducati', 'yamaha', 'suzuki', 'honda']\n"
     ]
    }
   ],
   "source": [
    "motorcycles.append('honda')\n",
    "print(motorcycles)"
   ]
  },
  {
   "cell_type": "code",
   "execution_count": 27,
   "metadata": {},
   "outputs": [],
   "source": [
    "motorcycles = []"
   ]
  },
  {
   "cell_type": "code",
   "execution_count": 28,
   "metadata": {},
   "outputs": [
    {
     "name": "stdout",
     "output_type": "stream",
     "text": [
      "[]\n"
     ]
    }
   ],
   "source": [
    "print(motorcycles)"
   ]
  },
  {
   "cell_type": "code",
   "execution_count": 29,
   "metadata": {},
   "outputs": [],
   "source": [
    "motorcycles.append('honda')\n",
    "motorcycles.append('yamaha')\n",
    "motorcycles.append('suzuki')"
   ]
  },
  {
   "cell_type": "code",
   "execution_count": 30,
   "metadata": {},
   "outputs": [
    {
     "name": "stdout",
     "output_type": "stream",
     "text": [
      "['honda', 'yamaha', 'suzuki']\n"
     ]
    }
   ],
   "source": [
    "print(motorcycles)"
   ]
  },
  {
   "cell_type": "code",
   "execution_count": 31,
   "metadata": {},
   "outputs": [
    {
     "name": "stdout",
     "output_type": "stream",
     "text": [
      "['ducati', 'honda', 'yamaha', 'suzuki']\n"
     ]
    }
   ],
   "source": [
    "motorcycles.insert(0, 'ducati')\n",
    "print(motorcycles)"
   ]
  },
  {
   "cell_type": "code",
   "execution_count": 32,
   "metadata": {},
   "outputs": [
    {
     "name": "stdout",
     "output_type": "stream",
     "text": [
      "['ducati', 'honda', 'kawasaki', 'yamaha', 'suzuki']\n"
     ]
    }
   ],
   "source": [
    "motorcycles.insert(2, 'kawasaki')\n",
    "print(motorcycles)"
   ]
  },
  {
   "cell_type": "code",
   "execution_count": 33,
   "metadata": {},
   "outputs": [
    {
     "name": "stdout",
     "output_type": "stream",
     "text": [
      "['honda', 'kawasaki', 'yamaha', 'suzuki']\n"
     ]
    }
   ],
   "source": [
    "del motorcycles[0]\n",
    "print(motorcycles)"
   ]
  },
  {
   "cell_type": "code",
   "execution_count": 34,
   "metadata": {},
   "outputs": [
    {
     "name": "stdout",
     "output_type": "stream",
     "text": [
      "['honda', 'yamaha', 'suzuki']\n"
     ]
    }
   ],
   "source": [
    "del motorcycles[1]\n",
    "print(motorcycles)"
   ]
  },
  {
   "cell_type": "code",
   "execution_count": 35,
   "metadata": {},
   "outputs": [
    {
     "name": "stdout",
     "output_type": "stream",
     "text": [
      "['honda', 'yamaha']\n",
      "suzuki\n"
     ]
    }
   ],
   "source": [
    "popped_motorcycle = motorcycles.pop()\n",
    "print(motorcycles)\n",
    "print(popped_motorcycle)"
   ]
  },
  {
   "cell_type": "code",
   "execution_count": 37,
   "metadata": {},
   "outputs": [
    {
     "name": "stdout",
     "output_type": "stream",
     "text": [
      "The last motorcycle I owned was a Suzuki.\n"
     ]
    }
   ],
   "source": [
    "motorcycles = ['honda','yamaha','suzuki']\n",
    "last_owned = motorcycles.pop()\n",
    "print(\"The last motorcycle I owned was a \" + last_owned.title() + \".\")"
   ]
  },
  {
   "cell_type": "code",
   "execution_count": 39,
   "metadata": {},
   "outputs": [
    {
     "name": "stdout",
     "output_type": "stream",
     "text": [
      "The first motorcycle I purchased was a Honda.\n"
     ]
    }
   ],
   "source": [
    "first_owned = motorcycles.pop(0)\n",
    "print(\"The first motorcycle I purchased was a \" + first_owned.title() + \".\")"
   ]
  },
  {
   "cell_type": "code",
   "execution_count": 40,
   "metadata": {},
   "outputs": [
    {
     "name": "stdout",
     "output_type": "stream",
     "text": [
      "[]\n"
     ]
    }
   ],
   "source": [
    "motorcycles.remove('yamaha')\n",
    "print(motorcycles)"
   ]
  },
  {
   "cell_type": "code",
   "execution_count": 45,
   "metadata": {},
   "outputs": [
    {
     "name": "stdout",
     "output_type": "stream",
     "text": [
      "['honda', 'yamaha', 'suzuki', 'ducati']\n"
     ]
    }
   ],
   "source": [
    "motorcycles = ['honda','yamaha','suzuki','ducati']\n",
    "print(motorcycles)"
   ]
  },
  {
   "cell_type": "code",
   "execution_count": 46,
   "metadata": {},
   "outputs": [
    {
     "name": "stdout",
     "output_type": "stream",
     "text": [
      "['honda', 'yamaha', 'suzuki']\n",
      "\n",
      "A Ducati is too expensive for me.\n"
     ]
    }
   ],
   "source": [
    "too_expensive = 'ducati'\n",
    "motorcycles.remove(too_expensive)\n",
    "print(motorcycles)\n",
    "print(\"\\nA \" + too_expensive.title() + \" is too expensive for me.\")"
   ]
  },
  {
   "cell_type": "code",
   "execution_count": 21,
   "metadata": {},
   "outputs": [],
   "source": [
    "guests = ['Thomas Jefferson','Jesus Christ','Ronald Reagan']"
   ]
  },
  {
   "cell_type": "code",
   "execution_count": 90,
   "metadata": {},
   "outputs": [
    {
     "name": "stdout",
     "output_type": "stream",
     "text": [
      "['Thomas Jefferson', 'Jesus Christ', 'Ronald Reagan']\n"
     ]
    }
   ],
   "source": [
    "print(guests\n",
    "     )"
   ]
  },
  {
   "cell_type": "code",
   "execution_count": 91,
   "metadata": {},
   "outputs": [
    {
     "name": "stdout",
     "output_type": "stream",
     "text": [
      "Dear Thomas Jefferson, \n",
      "I'm having a dinner next Tuesday. Would you like to come?\n",
      "Tom\n",
      "Dear Jesus Christ, \n",
      "I'm having a dinner next Tuesday. Would you like to come?\n",
      "Tom\n",
      "Dear Ronald Reagan, \n",
      "I'm having a dinner next Tuesday. Would you like to come?\n",
      "Tom\n"
     ]
    }
   ],
   "source": [
    "print(\"Dear \" + guests[0] + \", \\n\" + \"I'm having a dinner next Tuesday. Would you like to come?\" + \"\\nTom\")\n",
    "print(\"Dear \" + guests[1] + \", \\n\" + \"I'm having a dinner next Tuesday. Would you like to come?\" + \"\\nTom\")\n",
    "print(\"Dear \" + guests[2] + \", \\n\" + \"I'm having a dinner next Tuesday. Would you like to come?\" + \"\\nTom\")"
   ]
  },
  {
   "cell_type": "code",
   "execution_count": 92,
   "metadata": {},
   "outputs": [
    {
     "name": "stdout",
     "output_type": "stream",
     "text": [
      "['Thomas Jefferson', 'Ronald Reagan', 'John Nash']\n",
      "Jesus Christ had to cancel.\n"
     ]
    }
   ],
   "source": [
    "cant_come = guests.pop(1)\n",
    "guests.append('John Nash')\n",
    "print(guests)\n",
    "print(cant_come + \" had to cancel.\")"
   ]
  },
  {
   "cell_type": "code",
   "execution_count": 93,
   "metadata": {},
   "outputs": [
    {
     "name": "stdout",
     "output_type": "stream",
     "text": [
      "Dear Thomas Jefferson, \n",
      "I'm having a dinner next Tuesday. Would you like to come?\n",
      "Tom\n",
      "Dear Ronald Reagan, \n",
      "I'm having a dinner next Tuesday. Would you like to come?\n",
      "Tom\n",
      "Dear John Nash, \n",
      "I'm having a dinner next Tuesday. Would you like to come?\n",
      "Tom\n"
     ]
    }
   ],
   "source": [
    "print(\"Dear \" + guests[0] + \", \\n\" + \"I'm having a dinner next Tuesday. Would you like to come?\" + \"\\nTom\")\n",
    "print(\"Dear \" + guests[1] + \", \\n\" + \"I'm having a dinner next Tuesday. Would you like to come?\" + \"\\nTom\")\n",
    "print(\"Dear \" + guests[2] + \", \\n\" + \"I'm having a dinner next Tuesday. Would you like to come?\" + \"\\nTom\")"
   ]
  },
  {
   "cell_type": "code",
   "execution_count": 94,
   "metadata": {},
   "outputs": [
    {
     "name": "stdout",
     "output_type": "stream",
     "text": [
      "['Adam Smith', 'Thomas Jefferson', 'John Locke', 'Ronald Reagan', 'John Nash', 'Lao Tzu']\n"
     ]
    }
   ],
   "source": [
    "guests.insert(0, 'Adam Smith')\n",
    "guests.insert(2, 'John Locke')\n",
    "guests.append('Lao Tzu')\n",
    "print(guests)"
   ]
  },
  {
   "cell_type": "code",
   "execution_count": 95,
   "metadata": {},
   "outputs": [
    {
     "name": "stdout",
     "output_type": "stream",
     "text": [
      "Dear Adam Smith, \n",
      "I'm having a dinner next Tuesday. Would you like to come?\n",
      "Tom\n",
      "Dear Thomas Jefferson, \n",
      "I'm having a dinner next Tuesday. Would you like to come?\n",
      "Tom\n",
      "Dear John Locke, \n",
      "I'm having a dinner next Tuesday. Would you like to come?\n",
      "Tom\n",
      "Dear Ronald Reagan, \n",
      "I'm having a dinner next Tuesday. Would you like to come?\n",
      "Tom\n",
      "Dear John Nash, \n",
      "I'm having a dinner next Tuesday. Would you like to come?\n",
      "Tom\n",
      "Dear Lao Tzu, \n",
      "I'm having a dinner next Tuesday. Would you like to come?\n",
      "Tom\n"
     ]
    }
   ],
   "source": [
    "print(\"Dear \" + guests[0] + \", \\n\" + \"I'm having a dinner next Tuesday. Would you like to come?\" + \"\\nTom\")\n",
    "print(\"Dear \" + guests[1] + \", \\n\" + \"I'm having a dinner next Tuesday. Would you like to come?\" + \"\\nTom\")\n",
    "print(\"Dear \" + guests[2] + \", \\n\" + \"I'm having a dinner next Tuesday. Would you like to come?\" + \"\\nTom\")\n",
    "print(\"Dear \" + guests[3] + \", \\n\" + \"I'm having a dinner next Tuesday. Would you like to come?\" + \"\\nTom\")\n",
    "print(\"Dear \" + guests[4] + \", \\n\" + \"I'm having a dinner next Tuesday. Would you like to come?\" + \"\\nTom\")\n",
    "print(\"Dear \" + guests[5] + \", \\n\" + \"I'm having a dinner next Tuesday. Would you like to come?\" + \"\\nTom\")"
   ]
  },
  {
   "cell_type": "code",
   "execution_count": 99,
   "metadata": {},
   "outputs": [
    {
     "name": "stdout",
     "output_type": "stream",
     "text": [
      "Sorry, John Locke I can only invite two people. I'll invite you next time.\n",
      "['Adam Smith', 'Thomas Jefferson']\n"
     ]
    }
   ],
   "source": [
    "popped_guest = guests.pop(-1)\n",
    "print(\"Sorry, \" + popped_guest + \" I can only invite two people. I'll invite you next time.\")\n",
    "print(guests)"
   ]
  },
  {
   "cell_type": "code",
   "execution_count": 100,
   "metadata": {},
   "outputs": [
    {
     "name": "stdout",
     "output_type": "stream",
     "text": [
      "Thomas Jefferson just confirming your invitation to dinner.\n",
      "Adam Smith just confirming your invitation to dinner.\n"
     ]
    }
   ],
   "source": [
    "print(guests[1] + \" just confirming your invitation to dinner.\")\n",
    "print(guests[0] + \" just confirming your invitation to dinner.\")"
   ]
  },
  {
   "cell_type": "code",
   "execution_count": 101,
   "metadata": {},
   "outputs": [
    {
     "name": "stdout",
     "output_type": "stream",
     "text": [
      "[]\n"
     ]
    }
   ],
   "source": [
    "del(guests[0])\n",
    "del(guests[0])\n",
    "print(guests)"
   ]
  },
  {
   "cell_type": "code",
   "execution_count": 1,
   "metadata": {},
   "outputs": [
    {
     "name": "stdout",
     "output_type": "stream",
     "text": [
      "['audi', 'bmw', 'subaru', 'toyota']\n"
     ]
    }
   ],
   "source": [
    "cars = ['bmw','audi','toyota','subaru']\n",
    "cars.sort()\n",
    "print(cars)"
   ]
  },
  {
   "cell_type": "code",
   "execution_count": 2,
   "metadata": {},
   "outputs": [
    {
     "name": "stdout",
     "output_type": "stream",
     "text": [
      "['toyota', 'subaru', 'bmw', 'audi']\n"
     ]
    }
   ],
   "source": [
    "cars.sort(reverse=True)\n",
    "print(cars)"
   ]
  },
  {
   "cell_type": "code",
   "execution_count": 3,
   "metadata": {},
   "outputs": [
    {
     "name": "stdout",
     "output_type": "stream",
     "text": [
      "Here is the original list:\n",
      "['toyota', 'subaru', 'bmw', 'audi']\n",
      "\n",
      "Here is the sorted list:\n",
      "['audi', 'bmw', 'subaru', 'toyota']\n",
      "\n",
      "Here is the original list again:\n",
      "['toyota', 'subaru', 'bmw', 'audi']\n"
     ]
    }
   ],
   "source": [
    "print(\"Here is the original list:\")\n",
    "print(cars)\n",
    "print(\"\\nHere is the sorted list:\")\n",
    "print(sorted(cars))\n",
    "print(\"\\nHere is the original list again:\")\n",
    "print(cars)"
   ]
  },
  {
   "cell_type": "code",
   "execution_count": 4,
   "metadata": {},
   "outputs": [
    {
     "name": "stdout",
     "output_type": "stream",
     "text": [
      "['audi', 'bmw', 'subaru', 'toyota']\n"
     ]
    }
   ],
   "source": [
    "cars.reverse()\n",
    "print(cars)\n"
   ]
  },
  {
   "cell_type": "code",
   "execution_count": 5,
   "metadata": {},
   "outputs": [
    {
     "data": {
      "text/plain": [
       "4"
      ]
     },
     "execution_count": 5,
     "metadata": {},
     "output_type": "execute_result"
    }
   ],
   "source": [
    "len(cars)\n"
   ]
  },
  {
   "cell_type": "code",
   "execution_count": 6,
   "metadata": {},
   "outputs": [
    {
     "name": "stdout",
     "output_type": "stream",
     "text": [
      "['Rome', 'Singapore', 'Hong Kong', 'Bangkok', 'Dublin']\n"
     ]
    }
   ],
   "source": [
    "#Ex 3-8\n",
    "#Create a list of 5 places I want to visit\n",
    "places = ['Rome','Singapore','Hong Kong','Bangkok','Dublin']\n",
    "print(places)"
   ]
  },
  {
   "cell_type": "code",
   "execution_count": 7,
   "metadata": {},
   "outputs": [
    {
     "name": "stdout",
     "output_type": "stream",
     "text": [
      "['Bangkok', 'Dublin', 'Hong Kong', 'Rome', 'Singapore']\n"
     ]
    }
   ],
   "source": [
    "#print the list alphabetically sorted without modifying the original list\n",
    "print(sorted(places))"
   ]
  },
  {
   "cell_type": "code",
   "execution_count": 8,
   "metadata": {},
   "outputs": [
    {
     "name": "stdout",
     "output_type": "stream",
     "text": [
      "['Rome', 'Singapore', 'Hong Kong', 'Bangkok', 'Dublin']\n"
     ]
    }
   ],
   "source": [
    "#print the original list to show it is unmodified\n",
    "print(places)"
   ]
  },
  {
   "cell_type": "code",
   "execution_count": 10,
   "metadata": {},
   "outputs": [
    {
     "name": "stdout",
     "output_type": "stream",
     "text": [
      "['Singapore', 'Rome', 'Hong Kong', 'Dublin', 'Bangkok']\n"
     ]
    }
   ],
   "source": [
    "#print sorted in reverse alphabetical order without changing original list\n",
    "print(sorted(places, reverse=True))"
   ]
  },
  {
   "cell_type": "code",
   "execution_count": 11,
   "metadata": {},
   "outputs": [
    {
     "name": "stdout",
     "output_type": "stream",
     "text": [
      "['Rome', 'Singapore', 'Hong Kong', 'Bangkok', 'Dublin']\n"
     ]
    }
   ],
   "source": [
    "#print original to show it is intact\n",
    "print(places)"
   ]
  },
  {
   "cell_type": "code",
   "execution_count": 16,
   "metadata": {},
   "outputs": [
    {
     "name": "stdout",
     "output_type": "stream",
     "text": [
      "['Dublin', 'Bangkok', 'Hong Kong', 'Singapore', 'Rome']\n"
     ]
    }
   ],
   "source": [
    "#reverse the order of places and print\n",
    "places.reverse()\n",
    "print(places)"
   ]
  },
  {
   "cell_type": "code",
   "execution_count": 17,
   "metadata": {},
   "outputs": [
    {
     "name": "stdout",
     "output_type": "stream",
     "text": [
      "['Rome', 'Singapore', 'Hong Kong', 'Bangkok', 'Dublin']\n"
     ]
    }
   ],
   "source": [
    "#reverse the list back and print\n",
    "places.reverse()\n",
    "print(places)"
   ]
  },
  {
   "cell_type": "code",
   "execution_count": 19,
   "metadata": {},
   "outputs": [
    {
     "name": "stdout",
     "output_type": "stream",
     "text": [
      "['Bangkok', 'Dublin', 'Hong Kong', 'Rome', 'Singapore']\n"
     ]
    }
   ],
   "source": [
    "#sort to alphabetical order and print\n",
    "places.sort()\n",
    "print(places)"
   ]
  },
  {
   "cell_type": "code",
   "execution_count": 20,
   "metadata": {},
   "outputs": [
    {
     "name": "stdout",
     "output_type": "stream",
     "text": [
      "['Singapore', 'Rome', 'Hong Kong', 'Dublin', 'Bangkok']\n"
     ]
    }
   ],
   "source": [
    "#sort to reverse alphabetical order and print\n",
    "places.sort(reverse=True)\n",
    "print(places)"
   ]
  },
  {
   "cell_type": "code",
   "execution_count": 23,
   "metadata": {},
   "outputs": [
    {
     "name": "stdout",
     "output_type": "stream",
     "text": [
      "There are 3 guests coming to dinner on Tuesday.\n"
     ]
    }
   ],
   "source": [
    "#print a message telling how many guests are coming to dinner using the list from Ex 3-4 to 3-7\n",
    "numberguests = str(len(guests))\n",
    "print(\"There are \" + numberguests + \" guests coming to dinner on Tuesday.\")"
   ]
  },
  {
   "cell_type": "code",
   "execution_count": 24,
   "metadata": {},
   "outputs": [
    {
     "name": "stdout",
     "output_type": "stream",
     "text": [
      "['Tower of London', 'Sorbie Tower', 'Empire State Building', 'Statue of Liberty', 'Great Wall of China', 'Great Pyramid of Giza', 'Grand Canyon', 'Mauna Loa']\n"
     ]
    },
    {
     "data": {
      "text/plain": [
       "8"
      ]
     },
     "execution_count": 24,
     "metadata": {},
     "output_type": "execute_result"
    }
   ],
   "source": [
    "#Create a list of something and use all the functions\n",
    "#list of landmarks I want to see\n",
    "landmarks = ['Tower of London','Sorbie Tower','Empire State Building','Statue of Liberty','Great Wall of China',\n",
    "             'Great Pyramid of Giza','Grand Canyon','Mauna Loa']\n",
    "print(landmarks)\n",
    "len(landmarks)"
   ]
  },
  {
   "cell_type": "code",
   "execution_count": 25,
   "metadata": {},
   "outputs": [
    {
     "name": "stdout",
     "output_type": "stream",
     "text": [
      "['Empire State Building', 'Grand Canyon', 'Great Pyramid of Giza', 'Great Wall of China', 'Mauna Loa', 'Sorbie Tower', 'Statue of Liberty', 'Tower of London']\n"
     ]
    }
   ],
   "source": [
    "print(sorted(landmarks))"
   ]
  },
  {
   "cell_type": "code",
   "execution_count": 26,
   "metadata": {},
   "outputs": [
    {
     "name": "stdout",
     "output_type": "stream",
     "text": [
      "['Tower of London', 'Statue of Liberty', 'Sorbie Tower', 'Mauna Loa', 'Great Wall of China', 'Great Pyramid of Giza', 'Grand Canyon', 'Empire State Building']\n"
     ]
    }
   ],
   "source": [
    "print(sorted(landmarks, reverse=True))"
   ]
  },
  {
   "cell_type": "code",
   "execution_count": 28,
   "metadata": {},
   "outputs": [
    {
     "name": "stdout",
     "output_type": "stream",
     "text": [
      "['Empire State Building', 'Grand Canyon', 'Great Pyramid of Giza', 'Great Wall of China', 'Mauna Loa', 'Sorbie Tower', 'Statue of Liberty', 'Tower of London']\n"
     ]
    }
   ],
   "source": [
    "landmarks.sort()\n",
    "print(landmarks)"
   ]
  },
  {
   "cell_type": "code",
   "execution_count": 29,
   "metadata": {},
   "outputs": [
    {
     "name": "stdout",
     "output_type": "stream",
     "text": [
      "['Tower of London', 'Statue of Liberty', 'Sorbie Tower', 'Mauna Loa', 'Great Wall of China', 'Great Pyramid of Giza', 'Grand Canyon', 'Empire State Building']\n"
     ]
    }
   ],
   "source": [
    "landmarks.reverse()\n",
    "print(landmarks)"
   ]
  },
  {
   "cell_type": "code",
   "execution_count": 30,
   "metadata": {},
   "outputs": [
    {
     "name": "stdout",
     "output_type": "stream",
     "text": [
      "['Empire State Building', 'Grand Canyon', 'Great Pyramid of Giza', 'Great Wall of China', 'Mauna Loa', 'Sorbie Tower', 'Statue of Liberty', 'Tower of London']\n"
     ]
    }
   ],
   "source": [
    "landmarks.sort()\n",
    "print(landmarks)"
   ]
  },
  {
   "cell_type": "code",
   "execution_count": 31,
   "metadata": {},
   "outputs": [
    {
     "name": "stdout",
     "output_type": "stream",
     "text": [
      "['Tower of London', 'Statue of Liberty', 'Sorbie Tower', 'Mauna Loa', 'Great Wall of China', 'Great Pyramid of Giza', 'Grand Canyon', 'Empire State Building']\n"
     ]
    }
   ],
   "source": [
    "landmarks.sort(reverse=True)\n",
    "print(landmarks)"
   ]
  },
  {
   "cell_type": "code",
   "execution_count": 32,
   "metadata": {},
   "outputs": [
    {
     "name": "stdout",
     "output_type": "stream",
     "text": [
      "Bangkok\n"
     ]
    }
   ],
   "source": [
    "print(places[-1])"
   ]
  },
  {
   "cell_type": "code",
   "execution_count": 33,
   "metadata": {},
   "outputs": [
    {
     "name": "stdout",
     "output_type": "stream",
     "text": [
      "Empire State Building\n"
     ]
    }
   ],
   "source": [
    "print(landmarks[-1])"
   ]
  },
  {
   "cell_type": "code",
   "execution_count": 38,
   "metadata": {},
   "outputs": [
    {
     "ename": "IndexError",
     "evalue": "list assignment index out of range",
     "output_type": "error",
     "traceback": [
      "\u001b[1;31m---------------------------------------------------------------------------\u001b[0m",
      "\u001b[1;31mIndexError\u001b[0m                                Traceback (most recent call last)",
      "\u001b[1;32m<ipython-input-38-2f8e5b8d0fba>\u001b[0m in \u001b[0;36m<module>\u001b[1;34m\u001b[0m\n\u001b[0;32m      2\u001b[0m \u001b[1;31m#create and intentional index error in a list\u001b[0m\u001b[1;33m\u001b[0m\u001b[1;33m\u001b[0m\u001b[1;33m\u001b[0m\u001b[0m\n\u001b[0;32m      3\u001b[0m \u001b[1;33m\u001b[0m\u001b[0m\n\u001b[1;32m----> 4\u001b[1;33m \u001b[0mlandmarks\u001b[0m\u001b[1;33m[\u001b[0m\u001b[1;36m9\u001b[0m\u001b[1;33m]\u001b[0m\u001b[1;33m=\u001b[0m\u001b[1;34m'The Louvre'\u001b[0m\u001b[1;33m\u001b[0m\u001b[1;33m\u001b[0m\u001b[0m\n\u001b[0m",
      "\u001b[1;31mIndexError\u001b[0m: list assignment index out of range"
     ]
    }
   ],
   "source": [
    "#3-11 \n",
    "#create and intentional index error in a list\n",
    "\n",
    "landmarks[9]='The Louvre'\n"
   ]
  },
  {
   "cell_type": "code",
   "execution_count": 39,
   "metadata": {},
   "outputs": [
    {
     "data": {
      "text/plain": [
       "8"
      ]
     },
     "execution_count": 39,
     "metadata": {},
     "output_type": "execute_result"
    }
   ],
   "source": [
    "len(landmarks)"
   ]
  },
  {
   "cell_type": "code",
   "execution_count": 43,
   "metadata": {},
   "outputs": [],
   "source": [
    "landmarks.append('The Louvre')"
   ]
  },
  {
   "cell_type": "code",
   "execution_count": 44,
   "metadata": {},
   "outputs": [
    {
     "name": "stdout",
     "output_type": "stream",
     "text": [
      "['Tower of London', 'Statue of Liberty', 'Sorbie Tower', 'Mauna Loa', 'Great Wall of China', 'Great Pyramid of Giza', 'Grand Canyon', 'Empire State Building', 'The Louvre']\n"
     ]
    }
   ],
   "source": [
    "print(landmarks)"
   ]
  },
  {
   "cell_type": "code",
   "execution_count": null,
   "metadata": {},
   "outputs": [],
   "source": []
  }
 ],
 "metadata": {
  "kernelspec": {
   "display_name": "Python 3",
   "language": "python",
   "name": "python3"
  },
  "language_info": {
   "codemirror_mode": {
    "name": "ipython",
    "version": 3
   },
   "file_extension": ".py",
   "mimetype": "text/x-python",
   "name": "python",
   "nbconvert_exporter": "python",
   "pygments_lexer": "ipython3",
   "version": "3.7.6"
  }
 },
 "nbformat": 4,
 "nbformat_minor": 4
}
